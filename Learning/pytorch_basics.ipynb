{
  "nbformat": 4,
  "nbformat_minor": 0,
  "metadata": {
    "colab": {
      "name": "pytorch_basics.ipynb",
      "provenance": []
    },
    "kernelspec": {
      "name": "python3",
      "display_name": "Python 3"
    },
    "accelerator": "GPU"
  },
  "cells": [
    {
      "cell_type": "markdown",
      "metadata": {
        "id": "XpmMgAzW-_Pz",
        "colab_type": "text"
      },
      "source": [
        "**Note**: Some of the PyTorch code examples are digested from \n",
        "\n",
        "1. [Deep Learning with PyTorch: A 60 Minute Blitz](https://pytorch.org/tutorials/beginner/deep_learning_60min_blitz.html) \n",
        "2. [Github repo](https://github.com/deep-learning-with-pytorch/dlwpt-code) for \"Deep Learning with PyTorch\" by Hu"
      ]
    },
    {
      "cell_type": "markdown",
      "metadata": {
        "id": "DJ_eVZoImlZW",
        "colab_type": "text"
      },
      "source": [
        "# Google Colab Basics\n",
        "\n"
      ]
    },
    {
      "cell_type": "markdown",
      "metadata": {
        "id": "nZP4FMTtmxEA",
        "colab_type": "text"
      },
      "source": [
        "## Check the resources obtained from Collab"
      ]
    },
    {
      "cell_type": "markdown",
      "metadata": {
        "id": "9uMuftEImym3",
        "colab_type": "text"
      },
      "source": [
        "Google colab is a free to use Jupyter notebook , that allows you to use free Tesla T4 GPU it also gives you a total of 12 GB of ram , and you can use it up to 12 hours in row"
      ]
    },
    {
      "cell_type": "code",
      "metadata": {
        "id": "BvTz5fe2m8cf",
        "colab_type": "code",
        "outputId": "cafd823b-c739-47cd-f16b-9dd91d84a862",
        "colab": {
          "base_uri": "https://localhost:8080/",
          "height": 102
        }
      },
      "source": [
        "!lsb_release -a"
      ],
      "execution_count": 8,
      "outputs": [
        {
          "output_type": "stream",
          "text": [
            "No LSB modules are available.\n",
            "Distributor ID:\tUbuntu\n",
            "Description:\tUbuntu 18.04.3 LTS\n",
            "Release:\t18.04\n",
            "Codename:\tbionic\n"
          ],
          "name": "stdout"
        }
      ]
    },
    {
      "cell_type": "code",
      "metadata": {
        "id": "AnbX1PwPnDXl",
        "colab_type": "code",
        "outputId": "d0b2915d-9d56-42d1-899a-135051a476b3",
        "colab": {
          "base_uri": "https://localhost:8080/",
          "height": 34
        }
      },
      "source": [
        "!uname -r"
      ],
      "execution_count": 9,
      "outputs": [
        {
          "output_type": "stream",
          "text": [
            "4.19.104+\n"
          ],
          "name": "stdout"
        }
      ]
    },
    {
      "cell_type": "code",
      "metadata": {
        "id": "IfxfE5VQnExV",
        "colab_type": "code",
        "outputId": "c531a58e-30b6-4637-ee80-98644c95b8e1",
        "colab": {
          "base_uri": "https://localhost:8080/",
          "height": 85
        }
      },
      "source": [
        "!lscpu | grep 'Model name'\n",
        "!lscpu | grep 'Socket(s):'\n",
        "!lscpu | grep 'Thread(s) per core'\n",
        "!lscpu | grep \"L3 cache\""
      ],
      "execution_count": 10,
      "outputs": [
        {
          "output_type": "stream",
          "text": [
            "Model name:          Intel(R) Xeon(R) CPU @ 2.30GHz\n",
            "Socket(s):           1\n",
            "Thread(s) per core:  2\n",
            "L3 cache:            46080K\n"
          ],
          "name": "stdout"
        }
      ]
    },
    {
      "cell_type": "code",
      "metadata": {
        "id": "ORILkenqnIFX",
        "colab_type": "code",
        "outputId": "cfc2cbe5-5194-4d33-8359-63a47e5df04a",
        "colab": {
          "base_uri": "https://localhost:8080/",
          "height": 34
        }
      },
      "source": [
        "!cat /proc/meminfo | grep 'MemAvailable'"
      ],
      "execution_count": 11,
      "outputs": [
        {
          "output_type": "stream",
          "text": [
            "MemAvailable:   12451216 kB\n"
          ],
          "name": "stdout"
        }
      ]
    },
    {
      "cell_type": "code",
      "metadata": {
        "id": "R7ClJ_wNnK7z",
        "colab_type": "code",
        "outputId": "41b58c32-f7ff-4d93-c356-2ae233e1fa2a",
        "colab": {
          "base_uri": "https://localhost:8080/",
          "height": 51
        }
      },
      "source": [
        "!df -h / | awk '{print $4}'"
      ],
      "execution_count": 12,
      "outputs": [
        {
          "output_type": "stream",
          "text": [
            "Avail\n",
            "34G\n"
          ],
          "name": "stdout"
        }
      ]
    },
    {
      "cell_type": "code",
      "metadata": {
        "id": "bEjLUGTXnNaa",
        "colab_type": "code",
        "outputId": "a276528d-b67a-45de-a13e-5e0c4f5e27d9",
        "colab": {
          "base_uri": "https://localhost:8080/",
          "height": 306
        }
      },
      "source": [
        "!nvidia-smi"
      ],
      "execution_count": 13,
      "outputs": [
        {
          "output_type": "stream",
          "text": [
            "Thu Apr 23 18:23:37 2020       \n",
            "+-----------------------------------------------------------------------------+\n",
            "| NVIDIA-SMI 440.64.00    Driver Version: 418.67       CUDA Version: 10.1     |\n",
            "|-------------------------------+----------------------+----------------------+\n",
            "| GPU  Name        Persistence-M| Bus-Id        Disp.A | Volatile Uncorr. ECC |\n",
            "| Fan  Temp  Perf  Pwr:Usage/Cap|         Memory-Usage | GPU-Util  Compute M. |\n",
            "|===============================+======================+======================|\n",
            "|   0  Tesla K80           Off  | 00000000:00:04.0 Off |                    0 |\n",
            "| N/A   46C    P8    30W / 149W |      0MiB / 11441MiB |      0%      Default |\n",
            "+-------------------------------+----------------------+----------------------+\n",
            "                                                                               \n",
            "+-----------------------------------------------------------------------------+\n",
            "| Processes:                                                       GPU Memory |\n",
            "|  GPU       PID   Type   Process name                             Usage      |\n",
            "|=============================================================================|\n",
            "|  No running processes found                                                 |\n",
            "+-----------------------------------------------------------------------------+\n"
          ],
          "name": "stdout"
        }
      ]
    },
    {
      "cell_type": "markdown",
      "metadata": {
        "id": "sPt5y71ynZTc",
        "colab_type": "text"
      },
      "source": [
        "## Check the libs in Colab"
      ]
    },
    {
      "cell_type": "code",
      "metadata": {
        "id": "cLX4sEYbnaXo",
        "colab_type": "code",
        "outputId": "d785fa49-1bc6-4b2b-b948-6013dbdfe6ec",
        "colab": {
          "base_uri": "https://localhost:8080/",
          "height": 51
        }
      },
      "source": [
        "import sys\n",
        "print('The python version is', sys.version)"
      ],
      "execution_count": 14,
      "outputs": [
        {
          "output_type": "stream",
          "text": [
            "The python version is 3.6.9 (default, Nov  7 2019, 10:44:02) \n",
            "[GCC 8.3.0]\n"
          ],
          "name": "stdout"
        }
      ]
    },
    {
      "cell_type": "code",
      "metadata": {
        "id": "r22pYH7zYqZm",
        "colab_type": "code",
        "outputId": "beb0f967-ccfb-4ea2-8432-b30d51494ad8",
        "colab": {
          "base_uri": "https://localhost:8080/",
          "height": 34
        }
      },
      "source": [
        "from __future__ import print_function\n",
        "import torch\n",
        "print(torch.__version__)"
      ],
      "execution_count": 15,
      "outputs": [
        {
          "output_type": "stream",
          "text": [
            "1.4.0\n"
          ],
          "name": "stdout"
        }
      ]
    },
    {
      "cell_type": "code",
      "metadata": {
        "id": "GXer5iQhvrV5",
        "colab_type": "code",
        "outputId": "8cdcc13f-c6d3-4108-c6f8-e44a0b11d501",
        "colab": {
          "base_uri": "https://localhost:8080/",
          "height": 34
        }
      },
      "source": [
        "device = torch.device(\"cuda:0\" if torch.cuda.is_available() else \"cpu\")\n",
        "print(device)"
      ],
      "execution_count": 16,
      "outputs": [
        {
          "output_type": "stream",
          "text": [
            "cuda:0\n"
          ],
          "name": "stdout"
        }
      ]
    },
    {
      "cell_type": "markdown",
      "metadata": {
        "id": "0UodTj2pdi1O",
        "colab_type": "text"
      },
      "source": [
        "# Tensor Basics \n",
        "Similiar to np."
      ]
    },
    {
      "cell_type": "markdown",
      "metadata": {
        "id": "WseF3aond2hV",
        "colab_type": "text"
      },
      "source": [
        "### Initialization "
      ]
    },
    {
      "cell_type": "code",
      "metadata": {
        "id": "lRWYc7QpZL8X",
        "colab_type": "code",
        "outputId": "fe3af432-7226-4e5b-8b4a-8ee5658aa099",
        "colab": {
          "base_uri": "https://localhost:8080/",
          "height": 0
        }
      },
      "source": [
        "# Construct a 5x3 matrix, uninitialized\n",
        "x = torch.empty(5, 3)\n",
        "print(x)"
      ],
      "execution_count": 17,
      "outputs": [
        {
          "output_type": "stream",
          "text": [
            "tensor([[1.8347e-35, 0.0000e+00, 0.0000e+00],\n",
            "        [0.0000e+00, 0.0000e+00, 0.0000e+00],\n",
            "        [0.0000e+00, 0.0000e+00, 2.8026e-45],\n",
            "        [0.0000e+00, 1.1210e-44, 0.0000e+00],\n",
            "        [1.4013e-45, 0.0000e+00, 0.0000e+00]])\n"
          ],
          "name": "stdout"
        }
      ]
    },
    {
      "cell_type": "code",
      "metadata": {
        "id": "WJDiat4XZ46Z",
        "colab_type": "code",
        "outputId": "d75f756d-4917-461a-b118-d25ccfc9246a",
        "colab": {
          "base_uri": "https://localhost:8080/",
          "height": 0
        }
      },
      "source": [
        "x.shape"
      ],
      "execution_count": 18,
      "outputs": [
        {
          "output_type": "execute_result",
          "data": {
            "text/plain": [
              "torch.Size([5, 3])"
            ]
          },
          "metadata": {
            "tags": []
          },
          "execution_count": 18
        }
      ]
    },
    {
      "cell_type": "code",
      "metadata": {
        "id": "_2Y1mToyY2i-",
        "colab_type": "code",
        "outputId": "0ed652cf-d2d0-4947-9448-0741b90e4cfd",
        "colab": {
          "base_uri": "https://localhost:8080/",
          "height": 0
        }
      },
      "source": [
        "a = torch.ones(3, dtype=torch.long)\n",
        "a"
      ],
      "execution_count": 19,
      "outputs": [
        {
          "output_type": "execute_result",
          "data": {
            "text/plain": [
              "tensor([1, 1, 1])"
            ]
          },
          "metadata": {
            "tags": []
          },
          "execution_count": 19
        }
      ]
    },
    {
      "cell_type": "code",
      "metadata": {
        "id": "Qc3LEFROeNry",
        "colab_type": "code",
        "outputId": "750001ce-d9d5-4615-cb65-5ca2c109625a",
        "colab": {
          "base_uri": "https://localhost:8080/",
          "height": 0
        }
      },
      "source": [
        "x = torch.tensor([5.5, 3])\n",
        "x"
      ],
      "execution_count": 20,
      "outputs": [
        {
          "output_type": "execute_result",
          "data": {
            "text/plain": [
              "tensor([5.5000, 3.0000])"
            ]
          },
          "metadata": {
            "tags": []
          },
          "execution_count": 20
        }
      ]
    },
    {
      "cell_type": "code",
      "metadata": {
        "id": "PvKlP8QteWR0",
        "colab_type": "code",
        "outputId": "30c863bc-b29c-477f-a1a6-91fe60c6e19f",
        "colab": {
          "base_uri": "https://localhost:8080/",
          "height": 0
        }
      },
      "source": [
        "# Creating a tensor based on an existing tensor. These methods will reuse properties of the input tensor, e.g. dtype\n",
        "x = x.new_ones(5, 3, dtype=torch.double) # new_* methods take in sizes\n",
        "x"
      ],
      "execution_count": 21,
      "outputs": [
        {
          "output_type": "execute_result",
          "data": {
            "text/plain": [
              "tensor([[1., 1., 1.],\n",
              "        [1., 1., 1.],\n",
              "        [1., 1., 1.],\n",
              "        [1., 1., 1.],\n",
              "        [1., 1., 1.]], dtype=torch.float64)"
            ]
          },
          "metadata": {
            "tags": []
          },
          "execution_count": 21
        }
      ]
    },
    {
      "cell_type": "code",
      "metadata": {
        "id": "rJiKyA52erYM",
        "colab_type": "code",
        "outputId": "d0785116-c7d5-4587-951b-aefd7b86805e",
        "colab": {
          "base_uri": "https://localhost:8080/",
          "height": 0
        }
      },
      "source": [
        "x = torch.randn_like(x, dtype=torch.float)    # override dtype!\n",
        "x"
      ],
      "execution_count": 22,
      "outputs": [
        {
          "output_type": "execute_result",
          "data": {
            "text/plain": [
              "tensor([[-0.0129,  0.7334,  0.9376],\n",
              "        [ 0.7264, -2.0181,  1.9133],\n",
              "        [ 0.0764, -0.8140, -0.6788],\n",
              "        [-0.0657,  0.7543, -0.4570],\n",
              "        [-0.4238, -1.4652,  0.3472]])"
            ]
          },
          "metadata": {
            "tags": []
          },
          "execution_count": 22
        }
      ]
    },
    {
      "cell_type": "code",
      "metadata": {
        "id": "5tMPFXiQfHZt",
        "colab_type": "code",
        "outputId": "439a358b-e9ee-41bb-f3a3-28a5a53ef26f",
        "colab": {
          "base_uri": "https://localhost:8080/",
          "height": 0
        }
      },
      "source": [
        "y = torch.rand(5, 3)\n",
        "y"
      ],
      "execution_count": 23,
      "outputs": [
        {
          "output_type": "execute_result",
          "data": {
            "text/plain": [
              "tensor([[0.8577, 0.8506, 0.3251],\n",
              "        [0.6154, 0.6882, 0.3017],\n",
              "        [0.6551, 0.1195, 0.9619],\n",
              "        [0.1236, 0.7157, 0.1319],\n",
              "        [0.1125, 0.1385, 0.5837]])"
            ]
          },
          "metadata": {
            "tags": []
          },
          "execution_count": 23
        }
      ]
    },
    {
      "cell_type": "markdown",
      "metadata": {
        "id": "96duNhqce_fX",
        "colab_type": "text"
      },
      "source": [
        "### Operations"
      ]
    },
    {
      "cell_type": "code",
      "metadata": {
        "id": "LODj3Hkje-2r",
        "colab_type": "code",
        "outputId": "ca320f6f-1a01-4423-9fac-7a5f77c1daee",
        "colab": {
          "base_uri": "https://localhost:8080/",
          "height": 0
        }
      },
      "source": [
        "x + y"
      ],
      "execution_count": 24,
      "outputs": [
        {
          "output_type": "execute_result",
          "data": {
            "text/plain": [
              "tensor([[ 0.8448,  1.5841,  1.2627],\n",
              "        [ 1.3418, -1.3299,  2.2150],\n",
              "        [ 0.7314, -0.6944,  0.2831],\n",
              "        [ 0.0579,  1.4700, -0.3251],\n",
              "        [-0.3113, -1.3267,  0.9309]])"
            ]
          },
          "metadata": {
            "tags": []
          },
          "execution_count": 24
        }
      ]
    },
    {
      "cell_type": "code",
      "metadata": {
        "id": "vmWkEqslfMGf",
        "colab_type": "code",
        "outputId": "7608fb22-475a-4adb-c8b1-986fab1f141d",
        "colab": {
          "base_uri": "https://localhost:8080/",
          "height": 0
        }
      },
      "source": [
        "torch.add(x, y)"
      ],
      "execution_count": 25,
      "outputs": [
        {
          "output_type": "execute_result",
          "data": {
            "text/plain": [
              "tensor([[ 0.8448,  1.5841,  1.2627],\n",
              "        [ 1.3418, -1.3299,  2.2150],\n",
              "        [ 0.7314, -0.6944,  0.2831],\n",
              "        [ 0.0579,  1.4700, -0.3251],\n",
              "        [-0.3113, -1.3267,  0.9309]])"
            ]
          },
          "metadata": {
            "tags": []
          },
          "execution_count": 25
        }
      ]
    },
    {
      "cell_type": "code",
      "metadata": {
        "id": "gBO68XDUfQJ9",
        "colab_type": "code",
        "outputId": "4b1fdc6e-fa29-4404-b8fd-5f7b3d36be1b",
        "colab": {
          "base_uri": "https://localhost:8080/",
          "height": 0
        }
      },
      "source": [
        "result = torch.empty(5, 3)\n",
        "torch.add(x, y, out=result)\n",
        "result"
      ],
      "execution_count": 26,
      "outputs": [
        {
          "output_type": "execute_result",
          "data": {
            "text/plain": [
              "tensor([[ 0.8448,  1.5841,  1.2627],\n",
              "        [ 1.3418, -1.3299,  2.2150],\n",
              "        [ 0.7314, -0.6944,  0.2831],\n",
              "        [ 0.0579,  1.4700, -0.3251],\n",
              "        [-0.3113, -1.3267,  0.9309]])"
            ]
          },
          "metadata": {
            "tags": []
          },
          "execution_count": 26
        }
      ]
    },
    {
      "cell_type": "code",
      "metadata": {
        "id": "qf4MQlrHfYXL",
        "colab_type": "code",
        "outputId": "3cca680b-b546-4139-e342-8f536add35d1",
        "colab": {
          "base_uri": "https://localhost:8080/",
          "height": 0
        }
      },
      "source": [
        "y.add_(x)\n",
        "y"
      ],
      "execution_count": 27,
      "outputs": [
        {
          "output_type": "execute_result",
          "data": {
            "text/plain": [
              "tensor([[ 0.8448,  1.5841,  1.2627],\n",
              "        [ 1.3418, -1.3299,  2.2150],\n",
              "        [ 0.7314, -0.6944,  0.2831],\n",
              "        [ 0.0579,  1.4700, -0.3251],\n",
              "        [-0.3113, -1.3267,  0.9309]])"
            ]
          },
          "metadata": {
            "tags": []
          },
          "execution_count": 27
        }
      ]
    },
    {
      "cell_type": "markdown",
      "metadata": {
        "id": "NJ96AorCkMVY",
        "colab_type": "text"
      },
      "source": [
        "### Numpy Interchangability"
      ]
    },
    {
      "cell_type": "code",
      "metadata": {
        "id": "64_O4HBCjcML",
        "colab_type": "code",
        "outputId": "06b11a9f-dbee-4c2b-d232-9c1e256cfce5",
        "colab": {
          "base_uri": "https://localhost:8080/",
          "height": 0
        }
      },
      "source": [
        "a = torch.ones(5)\n",
        "a"
      ],
      "execution_count": 28,
      "outputs": [
        {
          "output_type": "execute_result",
          "data": {
            "text/plain": [
              "tensor([1., 1., 1., 1., 1.])"
            ]
          },
          "metadata": {
            "tags": []
          },
          "execution_count": 28
        }
      ]
    },
    {
      "cell_type": "code",
      "metadata": {
        "id": "WFkfqzZVkTgc",
        "colab_type": "code",
        "outputId": "92c5c688-f521-42a6-fb03-1bd81c5ada6c",
        "colab": {
          "base_uri": "https://localhost:8080/",
          "height": 0
        }
      },
      "source": [
        "b = a.numpy()\n",
        "b"
      ],
      "execution_count": 29,
      "outputs": [
        {
          "output_type": "execute_result",
          "data": {
            "text/plain": [
              "array([1., 1., 1., 1., 1.], dtype=float32)"
            ]
          },
          "metadata": {
            "tags": []
          },
          "execution_count": 29
        }
      ]
    },
    {
      "cell_type": "code",
      "metadata": {
        "id": "4vIm7NjHka4m",
        "colab_type": "code",
        "outputId": "18cbd64a-910b-48e6-df1a-aef183655a47",
        "colab": {
          "base_uri": "https://localhost:8080/",
          "height": 0
        }
      },
      "source": [
        "a.add_(1) # np and torch share the same memory\n",
        "print(a)\n",
        "print(b)"
      ],
      "execution_count": 30,
      "outputs": [
        {
          "output_type": "stream",
          "text": [
            "tensor([2., 2., 2., 2., 2.])\n",
            "[2. 2. 2. 2. 2.]\n"
          ],
          "name": "stdout"
        }
      ]
    },
    {
      "cell_type": "code",
      "metadata": {
        "id": "lW5FKZKvknd3",
        "colab_type": "code",
        "outputId": "b59457de-f016-4275-a745-c56016d5e898",
        "colab": {
          "base_uri": "https://localhost:8080/",
          "height": 0
        }
      },
      "source": [
        "import numpy as np\n",
        "a = np.ones(5)\n",
        "b = torch.from_numpy(a)\n",
        "np.add(a, 1, out=a)\n",
        "print(a)\n",
        "print(b)"
      ],
      "execution_count": 31,
      "outputs": [
        {
          "output_type": "stream",
          "text": [
            "[2. 2. 2. 2. 2.]\n",
            "tensor([2., 2., 2., 2., 2.], dtype=torch.float64)\n"
          ],
          "name": "stdout"
        }
      ]
    },
    {
      "cell_type": "markdown",
      "metadata": {
        "id": "I2-kqdv_dwkq",
        "colab_type": "text"
      },
      "source": [
        "### Storage and Views"
      ]
    },
    {
      "cell_type": "code",
      "metadata": {
        "id": "0WITOHsvZRNm",
        "colab_type": "code",
        "outputId": "196538b9-287d-4e38-ff0b-a2d06066e1ce",
        "colab": {
          "base_uri": "https://localhost:8080/",
          "height": 0
        }
      },
      "source": [
        "points = torch.FloatTensor([[4.0, 1.0], [5.0, 3.0], [2.0, 1.0]])\n",
        "points"
      ],
      "execution_count": 32,
      "outputs": [
        {
          "output_type": "execute_result",
          "data": {
            "text/plain": [
              "tensor([[4., 1.],\n",
              "        [5., 3.],\n",
              "        [2., 1.]])"
            ]
          },
          "metadata": {
            "tags": []
          },
          "execution_count": 32
        }
      ]
    },
    {
      "cell_type": "code",
      "metadata": {
        "id": "9wyoLlUHaqmg",
        "colab_type": "code",
        "outputId": "6c39f3d4-568e-4e58-f042-b1b4b5ce2633",
        "colab": {
          "base_uri": "https://localhost:8080/",
          "height": 0
        }
      },
      "source": [
        "points.storage() # same as C."
      ],
      "execution_count": 33,
      "outputs": [
        {
          "output_type": "execute_result",
          "data": {
            "text/plain": [
              " 4.0\n",
              " 1.0\n",
              " 5.0\n",
              " 3.0\n",
              " 2.0\n",
              " 1.0\n",
              "[torch.FloatStorage of size 6]"
            ]
          },
          "metadata": {
            "tags": []
          },
          "execution_count": 33
        }
      ]
    },
    {
      "cell_type": "code",
      "metadata": {
        "id": "uriuYNIvaxUS",
        "colab_type": "code",
        "outputId": "8570de67-86fd-4854-b78f-acc0e7ce8ded",
        "colab": {
          "base_uri": "https://localhost:8080/",
          "height": 0
        }
      },
      "source": [
        "points_storage = points.storage()\n",
        "points_storage[0] = 2.0\n",
        "points"
      ],
      "execution_count": 34,
      "outputs": [
        {
          "output_type": "execute_result",
          "data": {
            "text/plain": [
              "tensor([[2., 1.],\n",
              "        [5., 3.],\n",
              "        [2., 1.]])"
            ]
          },
          "metadata": {
            "tags": []
          },
          "execution_count": 34
        }
      ]
    },
    {
      "cell_type": "code",
      "metadata": {
        "id": "7RMtISBYa5_n",
        "colab_type": "code",
        "outputId": "db73280f-2aa7-4566-f2fd-f08b8089d0f1",
        "colab": {
          "base_uri": "https://localhost:8080/",
          "height": 0
        }
      },
      "source": [
        "points = torch.tensor([[4.0, 1.0], [5.0, 3.0], [2.0, 1.0]])\n",
        "second_point = points[1]\n",
        "second_point.storage_offset()"
      ],
      "execution_count": 35,
      "outputs": [
        {
          "output_type": "execute_result",
          "data": {
            "text/plain": [
              "2"
            ]
          },
          "metadata": {
            "tags": []
          },
          "execution_count": 35
        }
      ]
    },
    {
      "cell_type": "code",
      "metadata": {
        "id": "xsdW47Pabbra",
        "colab_type": "code",
        "outputId": "ef1d9ea8-f1b1-4853-ba92-20f544ff7b59",
        "colab": {
          "base_uri": "https://localhost:8080/",
          "height": 0
        }
      },
      "source": [
        "second_point.size()"
      ],
      "execution_count": 36,
      "outputs": [
        {
          "output_type": "execute_result",
          "data": {
            "text/plain": [
              "torch.Size([2])"
            ]
          },
          "metadata": {
            "tags": []
          },
          "execution_count": 36
        }
      ]
    },
    {
      "cell_type": "code",
      "metadata": {
        "id": "u_R7wBGjbed_",
        "colab_type": "code",
        "outputId": "fa9bd8bb-7ae3-4ae5-fb59-c51b1cc5477e",
        "colab": {
          "base_uri": "https://localhost:8080/",
          "height": 0
        }
      },
      "source": [
        "second_point.shape"
      ],
      "execution_count": 37,
      "outputs": [
        {
          "output_type": "execute_result",
          "data": {
            "text/plain": [
              "torch.Size([2])"
            ]
          },
          "metadata": {
            "tags": []
          },
          "execution_count": 37
        }
      ]
    },
    {
      "cell_type": "code",
      "metadata": {
        "id": "HRgKv1qbbhBe",
        "colab_type": "code",
        "outputId": "9264f364-2aa4-48e1-d3aa-498f28203c73",
        "colab": {
          "base_uri": "https://localhost:8080/",
          "height": 0
        }
      },
      "source": [
        "# Stride is a tuple indicating the number of elements in the storage that have to be skipped when the index is increased by 1 in each dimension\n",
        "points.stride()"
      ],
      "execution_count": 38,
      "outputs": [
        {
          "output_type": "execute_result",
          "data": {
            "text/plain": [
              "(2, 1)"
            ]
          },
          "metadata": {
            "tags": []
          },
          "execution_count": 38
        }
      ]
    },
    {
      "cell_type": "code",
      "metadata": {
        "id": "uHzwUYQkbjxF",
        "colab_type": "code",
        "outputId": "79dba687-c214-4630-8b88-cae86236cce8",
        "colab": {
          "base_uri": "https://localhost:8080/",
          "height": 0
        }
      },
      "source": [
        "second_point.stride()"
      ],
      "execution_count": 39,
      "outputs": [
        {
          "output_type": "execute_result",
          "data": {
            "text/plain": [
              "(1,)"
            ]
          },
          "metadata": {
            "tags": []
          },
          "execution_count": 39
        }
      ]
    },
    {
      "cell_type": "code",
      "metadata": {
        "id": "4IIiyEPWcrZL",
        "colab_type": "code",
        "outputId": "7bbb9d91-065b-48d9-f5b7-e972a11aab4f",
        "colab": {
          "base_uri": "https://localhost:8080/",
          "height": 0
        }
      },
      "source": [
        "points = torch.tensor([[4.0, 1.0], [5.0, 3.0], [2.0, 1.0]])\n",
        "second_point = points[1].clone()\n",
        "second_point[0] = 10.0\n",
        "points"
      ],
      "execution_count": 40,
      "outputs": [
        {
          "output_type": "execute_result",
          "data": {
            "text/plain": [
              "tensor([[4., 1.],\n",
              "        [5., 3.],\n",
              "        [2., 1.]])"
            ]
          },
          "metadata": {
            "tags": []
          },
          "execution_count": 40
        }
      ]
    },
    {
      "cell_type": "code",
      "metadata": {
        "id": "xt1mYisncxVw",
        "colab_type": "code",
        "outputId": "a5c7a478-6eac-4f7f-9c64-11975e7b9cc7",
        "colab": {
          "base_uri": "https://localhost:8080/",
          "height": 0
        }
      },
      "source": [
        "points_t = points.t()\n",
        "points_t"
      ],
      "execution_count": 41,
      "outputs": [
        {
          "output_type": "execute_result",
          "data": {
            "text/plain": [
              "tensor([[4., 5., 2.],\n",
              "        [1., 3., 1.]])"
            ]
          },
          "metadata": {
            "tags": []
          },
          "execution_count": 41
        }
      ]
    },
    {
      "cell_type": "code",
      "metadata": {
        "id": "WRMf946Gc1tQ",
        "colab_type": "code",
        "outputId": "edf9cec3-92ad-4d6f-eddb-375949333933",
        "colab": {
          "base_uri": "https://localhost:8080/",
          "height": 0
        }
      },
      "source": [
        "id(points.storage()) == id(points_t.storage())"
      ],
      "execution_count": 42,
      "outputs": [
        {
          "output_type": "execute_result",
          "data": {
            "text/plain": [
              "True"
            ]
          },
          "metadata": {
            "tags": []
          },
          "execution_count": 42
        }
      ]
    },
    {
      "cell_type": "code",
      "metadata": {
        "id": "r6NfsY4Wc6Rk",
        "colab_type": "code",
        "outputId": "88ced9a6-56cc-4853-dcee-7729d68c7ed3",
        "colab": {
          "base_uri": "https://localhost:8080/",
          "height": 0
        }
      },
      "source": [
        "points.stride()"
      ],
      "execution_count": 43,
      "outputs": [
        {
          "output_type": "execute_result",
          "data": {
            "text/plain": [
              "(2, 1)"
            ]
          },
          "metadata": {
            "tags": []
          },
          "execution_count": 43
        }
      ]
    },
    {
      "cell_type": "code",
      "metadata": {
        "id": "heWqLO2gc8bY",
        "colab_type": "code",
        "outputId": "493f8231-f844-4357-b7c3-76e2ed93f2ec",
        "colab": {
          "base_uri": "https://localhost:8080/",
          "height": 0
        }
      },
      "source": [
        "points_t.stride()"
      ],
      "execution_count": 44,
      "outputs": [
        {
          "output_type": "execute_result",
          "data": {
            "text/plain": [
              "(1, 2)"
            ]
          },
          "metadata": {
            "tags": []
          },
          "execution_count": 44
        }
      ]
    },
    {
      "cell_type": "code",
      "metadata": {
        "id": "r2wyM55jc-hK",
        "colab_type": "code",
        "outputId": "289a34b7-8d6d-4040-c87b-9fcfedb6e7ba",
        "colab": {
          "base_uri": "https://localhost:8080/",
          "height": 0
        }
      },
      "source": [
        "points.is_contiguous()"
      ],
      "execution_count": 45,
      "outputs": [
        {
          "output_type": "execute_result",
          "data": {
            "text/plain": [
              "True"
            ]
          },
          "metadata": {
            "tags": []
          },
          "execution_count": 45
        }
      ]
    },
    {
      "cell_type": "code",
      "metadata": {
        "id": "r119HXjEdEx8",
        "colab_type": "code",
        "outputId": "a2797b47-90db-4f18-91e5-60001b2e0ed5",
        "colab": {
          "base_uri": "https://localhost:8080/",
          "height": 0
        }
      },
      "source": [
        "points_t.is_contiguous()"
      ],
      "execution_count": 46,
      "outputs": [
        {
          "output_type": "execute_result",
          "data": {
            "text/plain": [
              "False"
            ]
          },
          "metadata": {
            "tags": []
          },
          "execution_count": 46
        }
      ]
    },
    {
      "cell_type": "code",
      "metadata": {
        "id": "Wbwyt4Q2jsOC",
        "colab_type": "code",
        "outputId": "4994d9e1-e79a-4baf-addb-46b1ce662759",
        "colab": {
          "base_uri": "https://localhost:8080/",
          "height": 0
        }
      },
      "source": [
        "x = torch.randn(4, 4)\n",
        "y = x.view(16)\n",
        "z = x.view(-1, 8)  # the size -1 is inferred from other dimensions\n",
        "print(x.size(), y.size(), z.size())"
      ],
      "execution_count": 47,
      "outputs": [
        {
          "output_type": "stream",
          "text": [
            "torch.Size([4, 4]) torch.Size([16]) torch.Size([2, 8])\n"
          ],
          "name": "stdout"
        }
      ]
    },
    {
      "cell_type": "markdown",
      "metadata": {
        "id": "cCudreKkkzuZ",
        "colab_type": "text"
      },
      "source": [
        "### CUDA Tensors"
      ]
    },
    {
      "cell_type": "code",
      "metadata": {
        "id": "h8t2zwPAdG5e",
        "colab_type": "code",
        "outputId": "908fcbd2-6acf-47b0-874a-707a315a9d4a",
        "colab": {
          "base_uri": "https://localhost:8080/",
          "height": 0
        }
      },
      "source": [
        "if torch.cuda.is_available():\n",
        "    device = torch.device(\"cuda\")          # a CUDA device object\n",
        "    y = torch.ones_like(x, device=device)  # directly create a tensor on GPU\n",
        "    x = x.to(device)                       # or just use strings ``.to(\"cuda\")``\n",
        "    z = x + y\n",
        "    print(z)\n",
        "    print(z.to(\"cpu\", torch.double))       # ``.to`` can also change dtype together! from GPU to CPU."
      ],
      "execution_count": 48,
      "outputs": [
        {
          "output_type": "stream",
          "text": [
            "tensor([[ 2.4202,  1.6902,  0.5865,  0.4070],\n",
            "        [ 2.4138,  1.0699,  2.6645,  1.0738],\n",
            "        [ 3.0194,  2.9563,  0.2962, -0.1554],\n",
            "        [ 1.3656,  2.6831, -0.2037, -0.1638]], device='cuda:0')\n",
            "tensor([[ 2.4202,  1.6902,  0.5865,  0.4070],\n",
            "        [ 2.4138,  1.0699,  2.6645,  1.0738],\n",
            "        [ 3.0194,  2.9563,  0.2962, -0.1554],\n",
            "        [ 1.3656,  2.6831, -0.2037, -0.1638]], dtype=torch.float64)\n"
          ],
          "name": "stdout"
        }
      ]
    },
    {
      "cell_type": "markdown",
      "metadata": {
        "id": "Y7v33EK7mRkm",
        "colab_type": "text"
      },
      "source": [
        "# Autograd"
      ]
    },
    {
      "cell_type": "code",
      "metadata": {
        "id": "3PBoWP_Kmzxx",
        "colab_type": "code",
        "outputId": "5c8a8c6b-2921-4621-d807-e1b431155424",
        "colab": {
          "base_uri": "https://localhost:8080/",
          "height": 34
        }
      },
      "source": [
        "a = torch.randn(2, 2)\n",
        "a = ((a * 3) / (a - 1))\n",
        "print(a.requires_grad)"
      ],
      "execution_count": 49,
      "outputs": [
        {
          "output_type": "stream",
          "text": [
            "False\n"
          ],
          "name": "stdout"
        }
      ]
    },
    {
      "cell_type": "code",
      "metadata": {
        "id": "DgW5AJApnNCS",
        "colab_type": "code",
        "outputId": "16a8bb82-9b8b-49cb-f1af-edf702b13485",
        "colab": {
          "base_uri": "https://localhost:8080/",
          "height": 34
        }
      },
      "source": [
        "a.requires_grad_(True)\n",
        "print(a.requires_grad)"
      ],
      "execution_count": 50,
      "outputs": [
        {
          "output_type": "stream",
          "text": [
            "True\n"
          ],
          "name": "stdout"
        }
      ]
    },
    {
      "cell_type": "code",
      "metadata": {
        "id": "umBswn4DnPoO",
        "colab_type": "code",
        "outputId": "caefb265-43e4-4a6f-e8bd-4256d637a2de",
        "colab": {
          "base_uri": "https://localhost:8080/",
          "height": 34
        }
      },
      "source": [
        "b = (a * a).sum()\n",
        "print(b)"
      ],
      "execution_count": 51,
      "outputs": [
        {
          "output_type": "stream",
          "text": [
            "tensor(144.4322, grad_fn=<SumBackward0>)\n"
          ],
          "name": "stdout"
        }
      ]
    },
    {
      "cell_type": "markdown",
      "metadata": {
        "id": "1-78hYueoYDt",
        "colab_type": "text"
      },
      "source": [
        "### Example for scaler-valued function"
      ]
    },
    {
      "cell_type": "code",
      "metadata": {
        "id": "CKYqi3wjmTkA",
        "colab_type": "code",
        "outputId": "4261179f-7b35-4430-d81f-ca9eac0bae66",
        "colab": {
          "base_uri": "https://localhost:8080/",
          "height": 0
        }
      },
      "source": [
        "x = torch.ones(2, 2, requires_grad=True)\n",
        "x"
      ],
      "execution_count": 52,
      "outputs": [
        {
          "output_type": "execute_result",
          "data": {
            "text/plain": [
              "tensor([[1., 1.],\n",
              "        [1., 1.]], requires_grad=True)"
            ]
          },
          "metadata": {
            "tags": []
          },
          "execution_count": 52
        }
      ]
    },
    {
      "cell_type": "code",
      "metadata": {
        "id": "sjWIsKf9mbUx",
        "colab_type": "code",
        "outputId": "45051004-ff05-4dfb-f24a-6a328106fd39",
        "colab": {
          "base_uri": "https://localhost:8080/",
          "height": 0
        }
      },
      "source": [
        "y = x + 2\n",
        "print(y)\n",
        "print(y.grad_fn) # .grad_fn attribute that references a Function"
      ],
      "execution_count": 53,
      "outputs": [
        {
          "output_type": "stream",
          "text": [
            "tensor([[3., 3.],\n",
            "        [3., 3.]], grad_fn=<AddBackward0>)\n",
            "<AddBackward0 object at 0x7fdc1c09c4e0>\n"
          ],
          "name": "stdout"
        }
      ]
    },
    {
      "cell_type": "markdown",
      "metadata": {
        "id": "_vpNilJ_ofXm",
        "colab_type": "text"
      },
      "source": [
        "$$ out = \\frac{1}{4} \\sum_i 3(x_i + 2)^2 $$"
      ]
    },
    {
      "cell_type": "code",
      "metadata": {
        "id": "SE6WYqPimhJy",
        "colab_type": "code",
        "outputId": "9d8f005b-81c8-49ab-ff1d-5f8c44ef31f0",
        "colab": {
          "base_uri": "https://localhost:8080/",
          "height": 0
        }
      },
      "source": [
        "z = y * y * 3\n",
        "out = z.mean()\n",
        "print(z)\n",
        "print(out)"
      ],
      "execution_count": 54,
      "outputs": [
        {
          "output_type": "stream",
          "text": [
            "tensor([[27., 27.],\n",
            "        [27., 27.]], grad_fn=<MulBackward0>)\n",
            "tensor(27., grad_fn=<MeanBackward0>)\n"
          ],
          "name": "stdout"
        }
      ]
    },
    {
      "cell_type": "markdown",
      "metadata": {
        "id": "Y4yRQN5hpnd9",
        "colab_type": "text"
      },
      "source": [
        "$$ \\frac{d(out)}{dx} = \\frac{3}{2} (x_i + 2) $$"
      ]
    },
    {
      "cell_type": "code",
      "metadata": {
        "id": "39CLLcbBnSFB",
        "colab_type": "code",
        "colab": {}
      },
      "source": [
        "out.backward()  # same as out.backward(torch.tensor(1.))"
      ],
      "execution_count": 0,
      "outputs": []
    },
    {
      "cell_type": "code",
      "metadata": {
        "id": "XCZNmjaCnqsw",
        "colab_type": "code",
        "outputId": "a56cb9b5-ef09-49b9-aa0e-e6bb2c0a8885",
        "colab": {
          "base_uri": "https://localhost:8080/",
          "height": 0
        }
      },
      "source": [
        "x.grad # = d(out)/dx"
      ],
      "execution_count": 56,
      "outputs": [
        {
          "output_type": "execute_result",
          "data": {
            "text/plain": [
              "tensor([[4.5000, 4.5000],\n",
              "        [4.5000, 4.5000]])"
            ]
          },
          "metadata": {
            "tags": []
          },
          "execution_count": 56
        }
      ]
    },
    {
      "cell_type": "markdown",
      "metadata": {
        "id": "J8hAcWHgq6oV",
        "colab_type": "text"
      },
      "source": [
        "### Example of non-scalar-output function"
      ]
    },
    {
      "cell_type": "markdown",
      "metadata": {
        "id": "MVn0pKxnrosP",
        "colab_type": "text"
      },
      "source": [
        "NOTE: `torch.autograd` is an engine for computing vector-Jacobian product:\n",
        "\n",
        "It means: if we have $\\vec{y}=f(\\vec{x})$, given any vector $v=\\left(\\begin{array}{ccc}\\frac{\\partial l}{\\partial y_{1}} & \\cdots & \\frac{\\partial l}{\\partial y_{m}}\\end{array}\\right)^{T}$, it can compute the gradient of $l$ with respect of $\\vec{x}$:\n",
        "\n",
        "$$\\begin{split}J^{T}\\cdot v=\\left(\\begin{array}{ccc}\n",
        " \\frac{\\partial y_{1}}{\\partial x_{1}} & \\cdots & \\frac{\\partial y_{m}}{\\partial x_{1}}\\\\\n",
        " \\vdots & \\ddots & \\vdots\\\\\n",
        " \\frac{\\partial y_{1}}{\\partial x_{n}} & \\cdots & \\frac{\\partial y_{m}}{\\partial x_{n}}\n",
        " \\end{array}\\right)\\left(\\begin{array}{c}\n",
        " \\frac{\\partial l}{\\partial y_{1}}\\\\\n",
        " \\vdots\\\\\n",
        " \\frac{\\partial l}{\\partial y_{m}}\n",
        " \\end{array}\\right)=\\left(\\begin{array}{c}\n",
        " \\frac{\\partial l}{\\partial x_{1}}\\\\\n",
        " \\vdots\\\\\n",
        " \\frac{\\partial l}{\\partial x_{n}}\n",
        " \\end{array}\\right)\\end{split} $$"
      ]
    },
    {
      "cell_type": "code",
      "metadata": {
        "id": "r7uP-QMrrKGk",
        "colab_type": "code",
        "outputId": "64975130-d74c-4109-e40c-c3f4934ce1d6",
        "colab": {
          "base_uri": "https://localhost:8080/",
          "height": 0
        }
      },
      "source": [
        "x = torch.randn(3, requires_grad=True)\n",
        "y = x * 2\n",
        "while y.data.norm() < 1000:\n",
        "    y = y * 2\n",
        "print(x)\n",
        "print(y)"
      ],
      "execution_count": 57,
      "outputs": [
        {
          "output_type": "stream",
          "text": [
            "tensor([-0.9168,  0.6675, -1.9369], requires_grad=True)\n",
            "tensor([-469.4009,  341.7467, -991.6764], grad_fn=<MulBackward0>)\n"
          ],
          "name": "stdout"
        }
      ]
    },
    {
      "cell_type": "code",
      "metadata": {
        "id": "uhpBhZ4su50G",
        "colab_type": "code",
        "outputId": "8390aa19-97fa-4f8d-933a-6bfd08400e75",
        "colab": {
          "base_uri": "https://localhost:8080/",
          "height": 0
        }
      },
      "source": [
        "v = torch.tensor([0.1, 1.0, 0.0001], dtype=torch.float)\n",
        "y.backward(v)\n",
        "print(x.grad)"
      ],
      "execution_count": 58,
      "outputs": [
        {
          "output_type": "stream",
          "text": [
            "tensor([5.1200e+01, 5.1200e+02, 5.1200e-02])\n"
          ],
          "name": "stdout"
        }
      ]
    },
    {
      "cell_type": "markdown",
      "metadata": {
        "id": "AmWG9fo6vms0",
        "colab_type": "text"
      },
      "source": [
        "### Stop autograd if needed"
      ]
    },
    {
      "cell_type": "code",
      "metadata": {
        "id": "KuBRBNhsu8th",
        "colab_type": "code",
        "outputId": "761d04fd-96ad-4e7a-c7f7-5e0346de7c7a",
        "colab": {
          "base_uri": "https://localhost:8080/",
          "height": 0
        }
      },
      "source": [
        "print(x.requires_grad)\n",
        "print((x ** 2).requires_grad)\n",
        "\n",
        "with torch.no_grad():\n",
        "    print((x ** 2).requires_grad)"
      ],
      "execution_count": 59,
      "outputs": [
        {
          "output_type": "stream",
          "text": [
            "True\n",
            "True\n",
            "False\n"
          ],
          "name": "stdout"
        }
      ]
    },
    {
      "cell_type": "code",
      "metadata": {
        "id": "X4y7-PdFvrLb",
        "colab_type": "code",
        "outputId": "4dd3a6ee-5dc4-44c0-fe8d-dab4b5ae289f",
        "colab": {
          "base_uri": "https://localhost:8080/",
          "height": 0
        }
      },
      "source": [
        "print(x.requires_grad)\n",
        "y = x.detach()\n",
        "print(y.requires_grad)\n",
        "print(x.eq(y).all())"
      ],
      "execution_count": 60,
      "outputs": [
        {
          "output_type": "stream",
          "text": [
            "True\n",
            "False\n",
            "tensor(True)\n"
          ],
          "name": "stdout"
        }
      ]
    },
    {
      "cell_type": "markdown",
      "metadata": {
        "id": "xiSmJJTA2cnx",
        "colab_type": "text"
      },
      "source": [
        "# Neural Networks\n",
        "\n",
        "Fahrenheit-Celsius Conversion Problem as illustration"
      ]
    },
    {
      "cell_type": "markdown",
      "metadata": {
        "id": "ih3_30yh2qHC",
        "colab_type": "text"
      },
      "source": [
        "## Data preparation\n",
        "\n",
        "Assuming we collected the following data over the weeks:\n",
        "\n",
        "*   `t_c`: known temperature in Celsius\n",
        "*   `t_u`: 1 wall-mounted analog thermometer without unit"
      ]
    },
    {
      "cell_type": "code",
      "metadata": {
        "id": "HOwz-Z6S2nEF",
        "colab_type": "code",
        "colab": {}
      },
      "source": [
        "t_c = [0.5,  14.0, 15.0, 28.0, 11.0,  8.0,  3.0, -4.0,  6.0, 13.0, 21.0]\n",
        "t_u = [35.7, 55.9, 58.2, 81.9, 56.3, 48.9, 33.9, 21.8, 48.4, 60.4, 68.4]"
      ],
      "execution_count": 0,
      "outputs": []
    },
    {
      "cell_type": "code",
      "metadata": {
        "id": "mBllXQqUNlL4",
        "colab_type": "code",
        "outputId": "41d46bd3-8e48-4ead-ccac-2726fc752468",
        "colab": {
          "base_uri": "https://localhost:8080/",
          "height": 579
        }
      },
      "source": [
        "import numpy as np\n",
        "from matplotlib import pyplot as plt\n",
        "\n",
        "t_u_range = np.linspace(20., 90.)\n",
        "t_c_range = (t_u_range -32) * 5/9\n",
        "\n",
        "fig = plt.figure(dpi=150)\n",
        "plt.xlabel(\"Fahrenheit\")\n",
        "plt.ylabel(\"Celsius\")\n",
        "plt.plot(t_u, t_c, 'o', label='Collected Data')\n",
        "plt.plot(t_u_range, t_c_range, '--', label='True relation')\n",
        "plt.legend(loc='best')"
      ],
      "execution_count": 62,
      "outputs": [
        {
          "output_type": "execute_result",
          "data": {
            "text/plain": [
              "<matplotlib.legend.Legend at 0x7fdc18c18438>"
            ]
          },
          "metadata": {
            "tags": []
          },
          "execution_count": 62
        },
        {
          "output_type": "display_data",
          "data": {
            "image/png": "[encoded data removed]",
            "text/plain": [
              "<Figure size 900x600 with 1 Axes>"
            ]
          },
          "metadata": {
            "tags": [],
            "needs_background": "light"
          }
        }
      ]
    },
    {
      "cell_type": "code",
      "metadata": {
        "id": "l3twByb1OIYi",
        "colab_type": "code",
        "outputId": "5e34b53b-b91c-4133-efd5-48358c50b736",
        "colab": {
          "base_uri": "https://localhost:8080/",
          "height": 255
        }
      },
      "source": [
        "print('t_u as Numpy list:', t_u)\n",
        "\n",
        "t_c = torch.tensor(t_c).unsqueeze(1) \n",
        "t_u = torch.tensor(t_u).unsqueeze(1) \n",
        "t_c = t_c.to(device)\n",
        "t_u = t_u.to(device)\n",
        "\n",
        "print(\"t_u after unsqueeze:\\n\", t_u)\n",
        "t_u.shape"
      ],
      "execution_count": 63,
      "outputs": [
        {
          "output_type": "stream",
          "text": [
            "t_u as Numpy list: [35.7, 55.9, 58.2, 81.9, 56.3, 48.9, 33.9, 21.8, 48.4, 60.4, 68.4]\n",
            "t_u after unsqueeze:\n",
            " tensor([[35.7000],\n",
            "        [55.9000],\n",
            "        [58.2000],\n",
            "        [81.9000],\n",
            "        [56.3000],\n",
            "        [48.9000],\n",
            "        [33.9000],\n",
            "        [21.8000],\n",
            "        [48.4000],\n",
            "        [60.4000],\n",
            "        [68.4000]], device='cuda:0')\n"
          ],
          "name": "stdout"
        },
        {
          "output_type": "execute_result",
          "data": {
            "text/plain": [
              "torch.Size([11, 1])"
            ]
          },
          "metadata": {
            "tags": []
          },
          "execution_count": 63
        }
      ]
    },
    {
      "cell_type": "code",
      "metadata": {
        "id": "kyH9Jkf-3B8q",
        "colab_type": "code",
        "outputId": "721cfe37-1334-4e4f-fed4-c070170ee7d4",
        "colab": {
          "base_uri": "https://localhost:8080/",
          "height": 34
        }
      },
      "source": [
        "n_samples = t_u.shape[0]\n",
        "n_val = int(0.2 * n_samples)\n",
        "\n",
        "shuffled_indices = torch.randperm(n_samples)\n",
        "\n",
        "train_indices = shuffled_indices[:-n_val]\n",
        "val_indices = shuffled_indices[-n_val:]\n",
        "\n",
        "train_indices, val_indices"
      ],
      "execution_count": 64,
      "outputs": [
        {
          "output_type": "execute_result",
          "data": {
            "text/plain": [
              "(tensor([2, 0, 8, 6, 7, 5, 3, 1, 9]), tensor([ 4, 10]))"
            ]
          },
          "metadata": {
            "tags": []
          },
          "execution_count": 64
        }
      ]
    },
    {
      "cell_type": "code",
      "metadata": {
        "id": "tui3iHOA3IMd",
        "colab_type": "code",
        "colab": {}
      },
      "source": [
        "t_u_train = t_u[train_indices]\n",
        "t_c_train = t_c[train_indices]\n",
        "\n",
        "t_u_val = t_u[val_indices]\n",
        "t_c_val = t_c[val_indices]"
      ],
      "execution_count": 0,
      "outputs": []
    },
    {
      "cell_type": "markdown",
      "metadata": {
        "id": "XeqZJtRjW6Mv",
        "colab_type": "text"
      },
      "source": [
        "**Watch out** for the scales of weights and biases. If they are in the different scaled space, one learning rate that is large for one enough to meaningfully update one will be so large as to be unstable for the other. \n",
        "\n",
        "The common way is to do the normalization to the data. But here it seems that a simple rescaling by a factor of ten can make the gradients of both weights and biases in the same magnitudes. That would be good enough for our demonstration."
      ]
    },
    {
      "cell_type": "code",
      "metadata": {
        "id": "YZ_kyP8rTijZ",
        "colab_type": "code",
        "colab": {}
      },
      "source": [
        "t_un_train = 0.1 * t_u_train\n",
        "t_un_val = 0.1 * t_u_val"
      ],
      "execution_count": 0,
      "outputs": []
    },
    {
      "cell_type": "markdown",
      "metadata": {
        "id": "f1mgkEsXJmXq",
        "colab_type": "text"
      },
      "source": [
        "## Using Neural Network model"
      ]
    },
    {
      "cell_type": "code",
      "metadata": {
        "id": "_1hkkwRw3gfj",
        "colab_type": "code",
        "colab": {
          "base_uri": "https://localhost:8080/",
          "height": 1000
        },
        "outputId": "469dd2bd-067c-428e-db66-98ffb10e48d1"
      },
      "source": [
        "import torch.nn as nn\n",
        "dir(nn)"
      ],
      "execution_count": 68,
      "outputs": [
        {
          "output_type": "execute_result",
          "data": {
            "text/plain": [
              "['AdaptiveAvgPool1d',\n",
              " 'AdaptiveAvgPool2d',\n",
              " 'AdaptiveAvgPool3d',\n",
              " 'AdaptiveLogSoftmaxWithLoss',\n",
              " 'AdaptiveMaxPool1d',\n",
              " 'AdaptiveMaxPool2d',\n",
              " 'AdaptiveMaxPool3d',\n",
              " 'AlphaDropout',\n",
              " 'AvgPool1d',\n",
              " 'AvgPool2d',\n",
              " 'AvgPool3d',\n",
              " 'BCELoss',\n",
              " 'BCEWithLogitsLoss',\n",
              " 'BatchNorm1d',\n",
              " 'BatchNorm2d',\n",
              " 'BatchNorm3d',\n",
              " 'Bilinear',\n",
              " 'CELU',\n",
              " 'CTCLoss',\n",
              " 'ConstantPad1d',\n",
              " 'ConstantPad2d',\n",
              " 'ConstantPad3d',\n",
              " 'Container',\n",
              " 'Conv1d',\n",
              " 'Conv2d',\n",
              " 'Conv3d',\n",
              " 'ConvTranspose1d',\n",
              " 'ConvTranspose2d',\n",
              " 'ConvTranspose3d',\n",
              " 'CosineEmbeddingLoss',\n",
              " 'CosineSimilarity',\n",
              " 'CrossEntropyLoss',\n",
              " 'CrossMapLRN2d',\n",
              " 'DataParallel',\n",
              " 'Dropout',\n",
              " 'Dropout2d',\n",
              " 'Dropout3d',\n",
              " 'ELU',\n",
              " 'Embedding',\n",
              " 'EmbeddingBag',\n",
              " 'FeatureAlphaDropout',\n",
              " 'Flatten',\n",
              " 'Fold',\n",
              " 'FractionalMaxPool2d',\n",
              " 'FractionalMaxPool3d',\n",
              " 'GELU',\n",
              " 'GLU',\n",
              " 'GRU',\n",
              " 'GRUCell',\n",
              " 'GroupNorm',\n",
              " 'Hardshrink',\n",
              " 'Hardtanh',\n",
              " 'HingeEmbeddingLoss',\n",
              " 'Identity',\n",
              " 'InstanceNorm1d',\n",
              " 'InstanceNorm2d',\n",
              " 'InstanceNorm3d',\n",
              " 'KLDivLoss',\n",
              " 'L1Loss',\n",
              " 'LPPool1d',\n",
              " 'LPPool2d',\n",
              " 'LSTM',\n",
              " 'LSTMCell',\n",
              " 'LayerNorm',\n",
              " 'LeakyReLU',\n",
              " 'Linear',\n",
              " 'LocalResponseNorm',\n",
              " 'LogSigmoid',\n",
              " 'LogSoftmax',\n",
              " 'MSELoss',\n",
              " 'MarginRankingLoss',\n",
              " 'MaxPool1d',\n",
              " 'MaxPool2d',\n",
              " 'MaxPool3d',\n",
              " 'MaxUnpool1d',\n",
              " 'MaxUnpool2d',\n",
              " 'MaxUnpool3d',\n",
              " 'Module',\n",
              " 'ModuleDict',\n",
              " 'ModuleList',\n",
              " 'MultiLabelMarginLoss',\n",
              " 'MultiLabelSoftMarginLoss',\n",
              " 'MultiMarginLoss',\n",
              " 'MultiheadAttention',\n",
              " 'NLLLoss',\n",
              " 'NLLLoss2d',\n",
              " 'PReLU',\n",
              " 'PairwiseDistance',\n",
              " 'Parameter',\n",
              " 'ParameterDict',\n",
              " 'ParameterList',\n",
              " 'PixelShuffle',\n",
              " 'PoissonNLLLoss',\n",
              " 'RNN',\n",
              " 'RNNBase',\n",
              " 'RNNCell',\n",
              " 'RNNCellBase',\n",
              " 'RReLU',\n",
              " 'ReLU',\n",
              " 'ReLU6',\n",
              " 'ReflectionPad1d',\n",
              " 'ReflectionPad2d',\n",
              " 'ReplicationPad1d',\n",
              " 'ReplicationPad2d',\n",
              " 'ReplicationPad3d',\n",
              " 'SELU',\n",
              " 'Sequential',\n",
              " 'Sigmoid',\n",
              " 'SmoothL1Loss',\n",
              " 'SoftMarginLoss',\n",
              " 'Softmax',\n",
              " 'Softmax2d',\n",
              " 'Softmin',\n",
              " 'Softplus',\n",
              " 'Softshrink',\n",
              " 'Softsign',\n",
              " 'SyncBatchNorm',\n",
              " 'Tanh',\n",
              " 'Tanhshrink',\n",
              " 'Threshold',\n",
              " 'Transformer',\n",
              " 'TransformerDecoder',\n",
              " 'TransformerDecoderLayer',\n",
              " 'TransformerEncoder',\n",
              " 'TransformerEncoderLayer',\n",
              " 'TripletMarginLoss',\n",
              " 'Unfold',\n",
              " 'Upsample',\n",
              " 'UpsamplingBilinear2d',\n",
              " 'UpsamplingNearest2d',\n",
              " 'ZeroPad2d',\n",
              " '_VF',\n",
              " '__builtins__',\n",
              " '__cached__',\n",
              " '__doc__',\n",
              " '__file__',\n",
              " '__loader__',\n",
              " '__name__',\n",
              " '__package__',\n",
              " '__path__',\n",
              " '__spec__',\n",
              " '_reduction',\n",
              " 'functional',\n",
              " 'grad',\n",
              " 'init',\n",
              " 'intrinsic',\n",
              " 'modules',\n",
              " 'parallel',\n",
              " 'parameter',\n",
              " 'qat',\n",
              " 'quantized',\n",
              " 'utils']"
            ]
          },
          "metadata": {
            "tags": []
          },
          "execution_count": 68
        }
      ]
    },
    {
      "cell_type": "markdown",
      "metadata": {
        "id": "ryUmQUQDJ3Q-",
        "colab_type": "text"
      },
      "source": [
        "We use the simplest linear NN model with one hidden layer.\n",
        "<img src=\"https://huqy.github.io/idre-learning-deep-learning-pytorch/img/nn_c2f.svg\" alt=\"Linear NN model\" style=\"width: 500px;\"/>"
      ]
    },
    {
      "cell_type": "code",
      "metadata": {
        "id": "zdTM7yd_3yRO",
        "colab_type": "code",
        "outputId": "05ad42c2-11be-49df-b5a8-269337c84001",
        "colab": {
          "base_uri": "https://localhost:8080/",
          "height": 102
        }
      },
      "source": [
        "from collections import OrderedDict\n",
        "\n",
        "seq_model = nn.Sequential(OrderedDict([\n",
        "    ('hidden_linear', nn.Linear(1, 8)), # 1 hidden layers and 8 features.\n",
        "    ('hidden_activation', nn.Tanh()),\n",
        "    ('output_linear', nn.Linear(8, 1))\n",
        "]))\n",
        "\n",
        "seq_model.to(device)\n",
        "\n",
        "seq_model"
      ],
      "execution_count": 69,
      "outputs": [
        {
          "output_type": "execute_result",
          "data": {
            "text/plain": [
              "Sequential(\n",
              "  (hidden_linear): Linear(in_features=1, out_features=8, bias=True)\n",
              "  (hidden_activation): Tanh()\n",
              "  (output_linear): Linear(in_features=8, out_features=1, bias=True)\n",
              ")"
            ]
          },
          "metadata": {
            "tags": []
          },
          "execution_count": 69
        }
      ]
    },
    {
      "cell_type": "code",
      "metadata": {
        "id": "cF0lU1Cg39jA",
        "colab_type": "code",
        "outputId": "3e9e7606-b21c-4c05-fd83-6f2cf9235d38",
        "colab": {
          "base_uri": "https://localhost:8080/",
          "height": 85
        }
      },
      "source": [
        "for name, param in seq_model.named_parameters():\n",
        "    print(name, param.shape)"
      ],
      "execution_count": 70,
      "outputs": [
        {
          "output_type": "stream",
          "text": [
            "hidden_linear.weight torch.Size([8, 1])\n",
            "hidden_linear.bias torch.Size([8])\n",
            "output_linear.weight torch.Size([1, 8])\n",
            "output_linear.bias torch.Size([1])\n"
          ],
          "name": "stdout"
        }
      ]
    },
    {
      "cell_type": "code",
      "metadata": {
        "id": "SIfs08P64C7X",
        "colab_type": "code",
        "outputId": "143c513c-cc8e-4e66-f72d-8829f5d16c6d",
        "colab": {
          "base_uri": "https://localhost:8080/",
          "height": 51
        }
      },
      "source": [
        "seq_model.output_linear.bias"
      ],
      "execution_count": 71,
      "outputs": [
        {
          "output_type": "execute_result",
          "data": {
            "text/plain": [
              "Parameter containing:\n",
              "tensor([-0.1354], device='cuda:0', requires_grad=True)"
            ]
          },
          "metadata": {
            "tags": []
          },
          "execution_count": 71
        }
      ]
    },
    {
      "cell_type": "markdown",
      "metadata": {
        "id": "U5bO7FujOap_",
        "colab_type": "text"
      },
      "source": [
        "## Training"
      ]
    },
    {
      "cell_type": "code",
      "metadata": {
        "id": "yz-mOc6g4TF2",
        "colab_type": "code",
        "colab": {
          "base_uri": "https://localhost:8080/",
          "height": 391
        },
        "outputId": "8c7e5dca-b991-4f6d-905a-4d90f58b6c40"
      },
      "source": [
        "import torch.optim as optim\n",
        "dir(optim) ## All current optimizers"
      ],
      "execution_count": 72,
      "outputs": [
        {
          "output_type": "execute_result",
          "data": {
            "text/plain": [
              "['ASGD',\n",
              " 'Adadelta',\n",
              " 'Adagrad',\n",
              " 'Adam',\n",
              " 'AdamW',\n",
              " 'Adamax',\n",
              " 'LBFGS',\n",
              " 'Optimizer',\n",
              " 'RMSprop',\n",
              " 'Rprop',\n",
              " 'SGD',\n",
              " 'SparseAdam',\n",
              " '__builtins__',\n",
              " '__cached__',\n",
              " '__doc__',\n",
              " '__file__',\n",
              " '__loader__',\n",
              " '__name__',\n",
              " '__package__',\n",
              " '__path__',\n",
              " '__spec__',\n",
              " 'lr_scheduler']"
            ]
          },
          "metadata": {
            "tags": []
          },
          "execution_count": 72
        }
      ]
    },
    {
      "cell_type": "code",
      "metadata": {
        "id": "cmjdNO6r4bYB",
        "colab_type": "code",
        "colab": {}
      },
      "source": [
        "def training_loop(n_epochs, optimizer, model, loss_fn, t_u_train, t_u_val, t_c_train, t_c_val):\n",
        "    for epoch in range(1, n_epochs + 1):\n",
        "\n",
        "        t_p_train = model(t_u_train) \n",
        "        loss_train = loss_fn(t_p_train, t_c_train)\n",
        "\n",
        "        t_p_val = model(t_u_val) \n",
        "        loss_val = loss_fn(t_p_val, t_c_val)\n",
        "        \n",
        "        optimizer.zero_grad()\n",
        "        loss_train.backward() \n",
        "        optimizer.step()\n",
        "\n",
        "        if epoch == 1 or epoch % 1000 == 0:\n",
        "            print('Epoch {}, Training loss {}, Validation loss {}'.format(\n",
        "                epoch, float(loss_train), float(loss_val)))"
      ],
      "execution_count": 0,
      "outputs": []
    },
    {
      "cell_type": "code",
      "metadata": {
        "id": "JCsYuvb24GyK",
        "colab_type": "code",
        "outputId": "5f4031fb-d667-44bd-cb5d-c7ba3e7564ae",
        "colab": {
          "base_uri": "https://localhost:8080/",
          "height": 323
        }
      },
      "source": [
        "optimizer = optim.SGD(seq_model.parameters(), lr=1e-3) \n",
        "\n",
        "training_loop(\n",
        "    n_epochs = 5000, \n",
        "    optimizer = optimizer,\n",
        "    model = seq_model,\n",
        "    loss_fn = nn.MSELoss(),\n",
        "    t_u_train = t_un_train,\n",
        "    t_u_val = t_un_val, \n",
        "    t_c_train = t_c_train,\n",
        "    t_c_val = t_c_val)\n",
        "    \n",
        "print('output', seq_model(t_un_val))\n",
        "print('answer', t_c_val)\n",
        "print('hidden', seq_model.hidden_linear.weight.grad) # overfitting already with several datapoints. Need early stop."
      ],
      "execution_count": 75,
      "outputs": [
        {
          "output_type": "stream",
          "text": [
            "Epoch 1, Training loss 177.71563720703125, Validation loss 299.7477722167969\n",
            "Epoch 1000, Training loss 5.697516441345215, Validation loss 4.157096862792969\n",
            "Epoch 2000, Training loss 3.6671571731567383, Validation loss 1.911117672920227\n",
            "Epoch 3000, Training loss 2.2836382389068604, Validation loss 1.3531489372253418\n",
            "Epoch 4000, Training loss 2.128413200378418, Validation loss 1.1465487480163574\n",
            "Epoch 5000, Training loss 2.0768518447875977, Validation loss 1.0179362297058105\n",
            "output tensor([[12.4120],\n",
            "        [20.7955]], device='cuda:0', grad_fn=<AddmmBackward>)\n",
            "answer tensor([[11.],\n",
            "        [21.]], device='cuda:0')\n",
            "hidden tensor([[ 0.0233],\n",
            "        [ 0.0279],\n",
            "        [ 0.0248],\n",
            "        [-0.0183],\n",
            "        [-0.0044],\n",
            "        [-0.0249],\n",
            "        [-0.0056],\n",
            "        [-0.0077]], device='cuda:0')\n"
          ],
          "name": "stdout"
        }
      ]
    },
    {
      "cell_type": "code",
      "metadata": {
        "id": "m5knIqr04hVS",
        "colab_type": "code",
        "outputId": "093ac77f-4ca7-47d7-9913-ad029463192b",
        "colab": {
          "base_uri": "https://localhost:8080/",
          "height": 579
        }
      },
      "source": [
        "from matplotlib import pyplot as plt\n",
        "\n",
        "t_range = torch.arange(20., 90.).unsqueeze(1)\n",
        "t_range = t_range.to(device)\n",
        "\n",
        "t_u_range = np.linspace(20., 90.)\n",
        "t_c_range = (t_u_range -32) * 5/9\n",
        "\n",
        "fig = plt.figure(dpi=150)\n",
        "plt.xlabel(\"Fahrenheit\")\n",
        "plt.ylabel(\"Celsius\")\n",
        "plt.plot(t_u.cpu().numpy(), t_c.cpu().numpy(), 'o', label=\"Collected data\") # on cpu, the values only wrote in numpy.\n",
        "plt.plot(t_range.cpu().numpy(), seq_model(0.1 * t_range).detach().cpu().numpy(), 'c-', label=\"Prediction curve from NN\")\n",
        "plt.plot(t_u.cpu().numpy(), seq_model(0.1 * t_u).detach().cpu().numpy(), 'kx', label=\"Predicted data from NN\")\n",
        "plt.plot(t_u_range, t_c_range, '--', label=\"Known truth\")\n",
        "plt.legend(loc='best')"
      ],
      "execution_count": 76,
      "outputs": [
        {
          "output_type": "execute_result",
          "data": {
            "text/plain": [
              "<matplotlib.legend.Legend at 0x7fdc18bb8898>"
            ]
          },
          "metadata": {
            "tags": []
          },
          "execution_count": 76
        },
        {
          "output_type": "display_data",
          "data": {
            "image/png": "[encoded data removed]",
            "text/plain": [
              "<Figure size 900x600 with 1 Axes>"
            ]
          },
          "metadata": {
            "tags": [],
            "needs_background": "light"
          }
        }
      ]
    }
  ]
}