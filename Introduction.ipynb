{
  "nbformat": 4,
  "nbformat_minor": 0,
  "metadata": {
    "kernelspec": {
      "display_name": "Python 3",
      "language": "python",
      "name": "python3"
    },
    "language_info": {
      "codemirror_mode": {
        "name": "ipython",
        "version": 3
      },
      "file_extension": ".py",
      "mimetype": "text/x-python",
      "name": "python",
      "nbconvert_exporter": "python",
      "pygments_lexer": "ipython3",
      "version": "3.8.3"
    },
    "colab": {
      "name": "Introduction.ipynb",
      "provenance": [],
      "collapsed_sections": [],
      "include_colab_link": true
    },
    "accelerator": "GPU"
  },
  "cells": [
    {
      "cell_type": "markdown",
      "metadata": {
        "id": "view-in-github",
        "colab_type": "text"
      },
      "source": [
        "<a href=\"https://colab.research.google.com/github/dixiong777/DL_Pytorch/blob/master/Introduction.ipynb\" target=\"_parent\"><img src=\"https://colab.research.google.com/assets/colab-badge.svg\" alt=\"Open In Colab\"/></a>"
      ]
    },
    {
      "cell_type": "markdown",
      "metadata": {
        "id": "22sDZlClGYn9"
      },
      "source": [
        "##  Introduction\n",
        "[Reference](https://pytorch.org/tutorials/beginner/blitz/tensor_tutorial.html#sphx-glr-beginner-blitz-tensor-tutorial-py)\n",
        "\n",
        "Minor changes for self learning."
      ]
    },
    {
      "cell_type": "code",
      "metadata": {
        "id": "9MKJvkSMGYoF"
      },
      "source": [
        "# Other useful packages\n",
        "import timeit\n",
        "from __future__ import print_function\n",
        "import random"
      ],
      "execution_count": 1,
      "outputs": []
    },
    {
      "cell_type": "markdown",
      "metadata": {
        "id": "CyghDzyFGYoG"
      },
      "source": [
        "### 1. Pytorch v.s. Numpy"
      ]
    },
    {
      "cell_type": "code",
      "metadata": {
        "id": "lLsuP_foGYoG",
        "colab": {
          "base_uri": "https://localhost:8080/"
        },
        "outputId": "548b7b08-9ba0-4e61-ab1e-eb4107ca49f3"
      },
      "source": [
        "import torch\n",
        "x = torch.rand(5, 3)\n",
        "print(x)\n",
        "timeit.timeit(lambda: torch.rand(5, 3), number=10000)"
      ],
      "execution_count": 2,
      "outputs": [
        {
          "output_type": "stream",
          "text": [
            "tensor([[0.6981, 0.1938, 0.3427],\n",
            "        [0.9560, 0.3272, 0.5232],\n",
            "        [0.9518, 0.0507, 0.8357],\n",
            "        [0.9435, 0.3506, 0.1860],\n",
            "        [0.7871, 0.3632, 0.8484]])\n"
          ],
          "name": "stdout"
        },
        {
          "output_type": "execute_result",
          "data": {
            "text/plain": [
              "0.0303088290000062"
            ]
          },
          "metadata": {
            "tags": []
          },
          "execution_count": 2
        }
      ]
    },
    {
      "cell_type": "code",
      "metadata": {
        "id": "kUjeUNcmGYoH",
        "colab": {
          "base_uri": "https://localhost:8080/"
        },
        "outputId": "6eebb04d-540a-452a-e5bb-9ad559ad6989"
      },
      "source": [
        "import numpy\n",
        "y = numpy.random.rand(5, 3)\n",
        "print(y)\n",
        "timeit.timeit(lambda: numpy.random.rand(5, 3), number=10000)"
      ],
      "execution_count": 3,
      "outputs": [
        {
          "output_type": "stream",
          "text": [
            "[[0.48099589 0.33722123 0.59573407]\n",
            " [0.42382522 0.06970274 0.8924247 ]\n",
            " [0.02763591 0.71490617 0.99793645]\n",
            " [0.87381804 0.49926191 0.29942192]\n",
            " [0.75129338 0.54411587 0.03767811]]\n"
          ],
          "name": "stdout"
        },
        {
          "output_type": "execute_result",
          "data": {
            "text/plain": [
              "0.013861125000005359"
            ]
          },
          "metadata": {
            "tags": []
          },
          "execution_count": 3
        }
      ]
    },
    {
      "cell_type": "markdown",
      "metadata": {
        "id": "Ly3SuwPTGYoH"
      },
      "source": [
        "### 2. Generate a Matrix\n",
        "\n",
        "#### Empty Matrix\n",
        "An uninitialized matrix is declared, but does not contain definite known values before it is used. When an uninitialized matrix is created, whatever values were in the allocated memory at the time will appear as the initial values.\n",
        "\n",
        "#### Random Matrix\n",
        "Use `torch.manual_seed(0)` to set seed instead of `random.rand(0)`.\n",
        "\n",
        "#### Zero Matrix"
      ]
    },
    {
      "cell_type": "code",
      "metadata": {
        "id": "AFvKuB3tGYoI",
        "colab": {
          "base_uri": "https://localhost:8080/"
        },
        "outputId": "7bd88e80-0cb5-4839-b2e8-4ea66f2911a5"
      },
      "source": [
        "# Empty Matrix: Results can be different even with a specific seed.\n",
        "torch.manual_seed(0)\n",
        "x = torch.empty(5, 3)\n",
        "print(x)"
      ],
      "execution_count": 4,
      "outputs": [
        {
          "output_type": "stream",
          "text": [
            "tensor([[1.0278e-35, 0.0000e+00, 3.3631e-44],\n",
            "        [0.0000e+00,        nan, 2.6931e-01],\n",
            "        [1.1578e+27, 1.1362e+30, 7.1547e+22],\n",
            "        [4.5828e+30, 1.2121e+04, 7.1846e+22],\n",
            "        [9.2198e-39, 7.0374e+22, 9.3849e-01]])\n"
          ],
          "name": "stdout"
        }
      ]
    },
    {
      "cell_type": "code",
      "metadata": {
        "id": "fS49SYVtGYoI",
        "colab": {
          "base_uri": "https://localhost:8080/"
        },
        "outputId": "bd79ec33-dd47-4a36-dc00-f122995b1bc3"
      },
      "source": [
        "# Random Matrix:\n",
        "torch.manual_seed(0)\n",
        "x = torch.rand(5, 3)\n",
        "print(x)"
      ],
      "execution_count": 5,
      "outputs": [
        {
          "output_type": "stream",
          "text": [
            "tensor([[0.4963, 0.7682, 0.0885],\n",
            "        [0.1320, 0.3074, 0.6341],\n",
            "        [0.4901, 0.8964, 0.4556],\n",
            "        [0.6323, 0.3489, 0.4017],\n",
            "        [0.0223, 0.1689, 0.2939]])\n"
          ],
          "name": "stdout"
        }
      ]
    },
    {
      "cell_type": "code",
      "metadata": {
        "id": "Q279497dGYoI",
        "colab": {
          "base_uri": "https://localhost:8080/"
        },
        "outputId": "dfc15937-0110-47a7-d98d-9c338a74a92f"
      },
      "source": [
        "# Zero Matrix: If not specific type, it will be float.\n",
        "x = torch.zeros(5, 3, dtype = torch.long)\n",
        "print(x)"
      ],
      "execution_count": 6,
      "outputs": [
        {
          "output_type": "stream",
          "text": [
            "tensor([[0, 0, 0],\n",
            "        [0, 0, 0],\n",
            "        [0, 0, 0],\n",
            "        [0, 0, 0],\n",
            "        [0, 0, 0]])\n"
          ],
          "name": "stdout"
        }
      ]
    },
    {
      "cell_type": "markdown",
      "metadata": {
        "id": "9D01S5p0GYoJ"
      },
      "source": [
        "### 3. Create a tensor\n",
        "Tensors are similar to NumPy’s ndarrays, with the addition being that Tensors can also be used on a GPU to accelerate computing."
      ]
    },
    {
      "cell_type": "code",
      "metadata": {
        "id": "Mi6w96xBGYoJ",
        "colab": {
          "base_uri": "https://localhost:8080/"
        },
        "outputId": "b9b369e8-64ff-4e5b-a8e7-6274bfae6eb2"
      },
      "source": [
        "# Create a new tensor\n",
        "x = torch.tensor([5.5, 3])\n",
        "print(x)"
      ],
      "execution_count": 7,
      "outputs": [
        {
          "output_type": "stream",
          "text": [
            "tensor([5.5000, 3.0000])\n"
          ],
          "name": "stdout"
        }
      ]
    },
    {
      "cell_type": "code",
      "metadata": {
        "id": "QY1yWL9AGYoJ",
        "colab": {
          "base_uri": "https://localhost:8080/"
        },
        "outputId": "a02de2f5-0305-400b-fc46-cdb510cf1506"
      },
      "source": [
        "# Generate from an existing tensor.\n",
        "# Default toch.dtype and torch.device are same as that of x.\n",
        "y = x.new_ones(5, 3, dtype = torch.double)\n",
        "print(y)\n",
        "print(y.size())"
      ],
      "execution_count": 8,
      "outputs": [
        {
          "output_type": "stream",
          "text": [
            "tensor([[1., 1., 1.],\n",
            "        [1., 1., 1.],\n",
            "        [1., 1., 1.],\n",
            "        [1., 1., 1.],\n",
            "        [1., 1., 1.]], dtype=torch.float64)\n",
            "torch.Size([5, 3])\n"
          ],
          "name": "stdout"
        }
      ]
    },
    {
      "cell_type": "code",
      "metadata": {
        "id": "FY74fsk-GYoK",
        "colab": {
          "base_uri": "https://localhost:8080/"
        },
        "outputId": "443b9a0e-0c3c-494a-8a6a-580cc4b91e10"
      },
      "source": [
        "# Override dtype and values but with the same size of y\n",
        "# randomn - from a normal distribution. \n",
        "z = torch.randn_like(y, dtype = torch.float)\n",
        "print(z)"
      ],
      "execution_count": 9,
      "outputs": [
        {
          "output_type": "stream",
          "text": [
            "tensor([[ 0.6035,  0.8110, -0.0451],\n",
            "        [ 0.8797,  1.0482, -0.0445],\n",
            "        [-0.7229,  2.8663, -0.5655],\n",
            "        [ 0.1604, -0.0254,  1.0739],\n",
            "        [ 2.2628, -0.9175, -0.2251]])\n"
          ],
          "name": "stdout"
        }
      ]
    },
    {
      "cell_type": "code",
      "metadata": {
        "id": "eyebAQ9xGYoK",
        "colab": {
          "base_uri": "https://localhost:8080/"
        },
        "outputId": "5e3c4e29-f83d-463b-cacc-8605a2553f29"
      },
      "source": [
        "# Size\n",
        "# torch.Size() is a tuple (a row of record) so it supports all tuple operations.\n",
        "print(z.size())"
      ],
      "execution_count": 10,
      "outputs": [
        {
          "output_type": "stream",
          "text": [
            "torch.Size([5, 3])\n"
          ],
          "name": "stdout"
        }
      ]
    },
    {
      "cell_type": "markdown",
      "metadata": {
        "id": "5Y7Tn1g7GYoK"
      },
      "source": [
        "### 4. Operations\n",
        "\n",
        "* Any operation that mutates a tensor in-place is post-fixed with an _. For example: x.copy_(y), x.t_(), will change x.\n",
        "\n",
        "* More Operations are avaliable here [https://pytorch.org/docs/stable/torch.html]\n",
        "    1. Tensors\n",
        "    2. Generators\n",
        "    3. Random Sampling\n",
        "    4. Serialization\n",
        "    5. Parallelism\n",
        "    6. Locally Disabling Gradient Computation\n",
        "    7. Match Operations"
      ]
    },
    {
      "cell_type": "code",
      "metadata": {
        "id": "iCNBQkVvGYoK",
        "colab": {
          "base_uri": "https://localhost:8080/"
        },
        "outputId": "8b4713f7-11e4-48bd-dce4-2fda2fc152de"
      },
      "source": [
        "# Addition:\n",
        "x = torch.rand(5, 3)\n",
        "y = torch.rand(5, 3)\n",
        "print('x = ', x)\n",
        "print('y = ', y)\n",
        "\n",
        "## Direct way:\n",
        "print('x + y =', x + y)\n",
        "\n",
        "## Function:\n",
        "print('x + y = ', torch.add(x, y))\n",
        "\n",
        "## Store the result.\n",
        "result = torch.empty(5, 3)\n",
        "print('x + y = ', torch.add(x, y, out = result))\n",
        "print('Stored result is', result)\n",
        "\n",
        "## Function on one of the variable:\n",
        "print('Add x to y:', y.add_(x))\n",
        "print('And the y will be updated as', y)"
      ],
      "execution_count": 11,
      "outputs": [
        {
          "output_type": "stream",
          "text": [
            "x =  tensor([[0.7932, 0.2783, 0.4820],\n",
            "        [0.8198, 0.9971, 0.6984],\n",
            "        [0.5675, 0.8352, 0.2056],\n",
            "        [0.5932, 0.1123, 0.1535],\n",
            "        [0.2417, 0.7262, 0.7011]])\n",
            "y =  tensor([[0.2038, 0.6511, 0.7745],\n",
            "        [0.4369, 0.5191, 0.6159],\n",
            "        [0.8102, 0.9801, 0.1147],\n",
            "        [0.3168, 0.6965, 0.9143],\n",
            "        [0.9351, 0.9412, 0.5995]])\n",
            "x + y = tensor([[0.9970, 0.9293, 1.2564],\n",
            "        [1.2567, 1.5162, 1.3143],\n",
            "        [1.3777, 1.8153, 0.3203],\n",
            "        [0.9099, 0.8089, 1.0677],\n",
            "        [1.1768, 1.6674, 1.3006]])\n",
            "x + y =  tensor([[0.9970, 0.9293, 1.2564],\n",
            "        [1.2567, 1.5162, 1.3143],\n",
            "        [1.3777, 1.8153, 0.3203],\n",
            "        [0.9099, 0.8089, 1.0677],\n",
            "        [1.1768, 1.6674, 1.3006]])\n",
            "x + y =  tensor([[0.9970, 0.9293, 1.2564],\n",
            "        [1.2567, 1.5162, 1.3143],\n",
            "        [1.3777, 1.8153, 0.3203],\n",
            "        [0.9099, 0.8089, 1.0677],\n",
            "        [1.1768, 1.6674, 1.3006]])\n",
            "Stored result is tensor([[0.9970, 0.9293, 1.2564],\n",
            "        [1.2567, 1.5162, 1.3143],\n",
            "        [1.3777, 1.8153, 0.3203],\n",
            "        [0.9099, 0.8089, 1.0677],\n",
            "        [1.1768, 1.6674, 1.3006]])\n",
            "Add x to y: tensor([[0.9970, 0.9293, 1.2564],\n",
            "        [1.2567, 1.5162, 1.3143],\n",
            "        [1.3777, 1.8153, 0.3203],\n",
            "        [0.9099, 0.8089, 1.0677],\n",
            "        [1.1768, 1.6674, 1.3006]])\n",
            "And the y will be updated as tensor([[0.9970, 0.9293, 1.2564],\n",
            "        [1.2567, 1.5162, 1.3143],\n",
            "        [1.3777, 1.8153, 0.3203],\n",
            "        [0.9099, 0.8089, 1.0677],\n",
            "        [1.1768, 1.6674, 1.3006]])\n"
          ],
          "name": "stdout"
        }
      ]
    },
    {
      "cell_type": "markdown",
      "metadata": {
        "id": "JYmWUUVMGYoL"
      },
      "source": [
        "### 5. Index\n",
        "Similiar to the Numpy."
      ]
    },
    {
      "cell_type": "code",
      "metadata": {
        "id": "W0_ITt8yGYoL",
        "colab": {
          "base_uri": "https://localhost:8080/"
        },
        "outputId": "435793cb-0b71-4457-e012-f5f940e314a5"
      },
      "source": [
        "print(x[:, 1])"
      ],
      "execution_count": 12,
      "outputs": [
        {
          "output_type": "stream",
          "text": [
            "tensor([0.2783, 0.9971, 0.8352, 0.1123, 0.7262])\n"
          ],
          "name": "stdout"
        }
      ]
    },
    {
      "cell_type": "code",
      "metadata": {
        "id": "Ye2ec2qVGYoL",
        "colab": {
          "base_uri": "https://localhost:8080/"
        },
        "outputId": "1a4d63be-32e0-40ba-d58e-88c9c9ec1bde"
      },
      "source": [
        "# If only one element, we can view it as a Python number using x.item()\n",
        "# Will be error if more than one element.\n",
        "x = torch.randn(1)\n",
        "print(x)\n",
        "print(x.item())"
      ],
      "execution_count": 13,
      "outputs": [
        {
          "output_type": "stream",
          "text": [
            "tensor([2.3466])\n",
            "2.3466382026672363\n"
          ],
          "name": "stdout"
        }
      ]
    },
    {
      "cell_type": "markdown",
      "metadata": {
        "id": "Cu-uBYGFGYoL"
      },
      "source": [
        "###  6. Reshape and Resize:\n",
        "\n",
        "* torch.view()"
      ]
    },
    {
      "cell_type": "code",
      "metadata": {
        "id": "8Zl-fQMPGYoM",
        "colab": {
          "base_uri": "https://localhost:8080/"
        },
        "outputId": "1473b59d-7b5c-42c4-a319-e390d25c9fee"
      },
      "source": [
        "# Generate x from a standard normal distribution\n",
        "x = torch.randn(4, 4)\n",
        "print(x)\n",
        "\n",
        "# Reshape to 2 * 8 matrix instead.\n",
        "y = x.view(2, 8)\n",
        "print(y)\n",
        "\n",
        "# Automatically calculate the other dimension. \n",
        "z = x.view(-1, 16)\n",
        "print(z)\n",
        "\n",
        "# Print all sizes:\n",
        "print('size of x:', x.size())\n",
        "print('size of y:', y.size())\n",
        "print('size of z:', z.size())"
      ],
      "execution_count": 14,
      "outputs": [
        {
          "output_type": "stream",
          "text": [
            "tensor([[-3.1700e-01, -1.0925e+00, -8.5194e-02, -9.3348e-02],\n",
            "        [ 6.8705e-01, -8.3832e-01,  8.9182e-04,  8.4189e-01],\n",
            "        [ 1.8541e-01,  6.2114e-01,  6.3818e-01, -2.4600e-01],\n",
            "        [ 2.3025e+00, -1.8817e+00, -4.9727e-02, -1.0450e+00]])\n",
            "tensor([[-3.1700e-01, -1.0925e+00, -8.5194e-02, -9.3348e-02,  6.8705e-01,\n",
            "         -8.3832e-01,  8.9182e-04,  8.4189e-01],\n",
            "        [ 1.8541e-01,  6.2114e-01,  6.3818e-01, -2.4600e-01,  2.3025e+00,\n",
            "         -1.8817e+00, -4.9727e-02, -1.0450e+00]])\n",
            "tensor([[-3.1700e-01, -1.0925e+00, -8.5194e-02, -9.3348e-02,  6.8705e-01,\n",
            "         -8.3832e-01,  8.9182e-04,  8.4189e-01,  1.8541e-01,  6.2114e-01,\n",
            "          6.3818e-01, -2.4600e-01,  2.3025e+00, -1.8817e+00, -4.9727e-02,\n",
            "         -1.0450e+00]])\n",
            "size of x: torch.Size([4, 4])\n",
            "size of y: torch.Size([2, 8])\n",
            "size of z: torch.Size([1, 16])\n"
          ],
          "name": "stdout"
        }
      ]
    },
    {
      "cell_type": "markdown",
      "metadata": {
        "id": "YDTlHU7rGYoM"
      },
      "source": [
        "### 7. Transfer to and from a Numpy array\n",
        "\n",
        "* The Torch Tensor and NumPy array will share their underlying memory locations (if the Torch Tensor is on CPU), and changing one will change the other.\n",
        "\n",
        "* All the Tensors on the CPU except for the CharTensor support converting to NumPy and back."
      ]
    },
    {
      "cell_type": "code",
      "metadata": {
        "id": "cc7lqSk5GYoM",
        "colab": {
          "base_uri": "https://localhost:8080/"
        },
        "outputId": "4748639a-9d16-4355-c7ac-bbb70094951c"
      },
      "source": [
        "# Converting a Torch Tensor to a Numpy Array\n",
        "a = torch.ones(5)\n",
        "print(a)\n",
        "\n",
        "b = a.numpy()\n",
        "print(b)\n",
        "\n",
        "# If change on a, b will be changed as well.\n",
        "a.add_(1)\n",
        "print('After changing, a = ', a)\n",
        "print('After changing, b = ', b)"
      ],
      "execution_count": 15,
      "outputs": [
        {
          "output_type": "stream",
          "text": [
            "tensor([1., 1., 1., 1., 1.])\n",
            "[1. 1. 1. 1. 1.]\n",
            "After changing, a =  tensor([2., 2., 2., 2., 2.])\n",
            "After changing, b =  [2. 2. 2. 2. 2.]\n"
          ],
          "name": "stdout"
        }
      ]
    },
    {
      "cell_type": "code",
      "metadata": {
        "id": "km1l4ZAEGYoN",
        "colab": {
          "base_uri": "https://localhost:8080/"
        },
        "outputId": "4a4a978e-5058-4fa0-e592-7b9a841c11bd"
      },
      "source": [
        "# Converting a Numpy Array to a Torch Tensor\n",
        "import numpy as np\n",
        "a = np.ones(5)\n",
        "print(a)\n",
        "b = torch.from_numpy(a)\n",
        "print(b)\n",
        "\n",
        "# If change on a, b will be changed as well.\n",
        "np.add(a, 1, out = a)\n",
        "print(a)\n",
        "print(b)"
      ],
      "execution_count": 16,
      "outputs": [
        {
          "output_type": "stream",
          "text": [
            "[1. 1. 1. 1. 1.]\n",
            "tensor([1., 1., 1., 1., 1.], dtype=torch.float64)\n",
            "[2. 2. 2. 2. 2.]\n",
            "tensor([2., 2., 2., 2., 2.], dtype=torch.float64)\n"
          ],
          "name": "stdout"
        }
      ]
    },
    {
      "cell_type": "markdown",
      "metadata": {
        "id": "D3xF8vgkGYoN"
      },
      "source": [
        "### 8. CUDA Tensors\n",
        "\n",
        "* Can move the tensors in and out of GPU using the `.to` method."
      ]
    },
    {
      "cell_type": "code",
      "metadata": {
        "id": "g1o-nxesGYoN",
        "colab": {
          "base_uri": "https://localhost:8080/",
          "height": 35
        },
        "outputId": "55b44774-ffa6-4624-a71c-c67efad3ffe9"
      },
      "source": [
        "# Check whether CUDA is avaliable:\n",
        "torch.cuda.is_available()\n",
        "\n",
        "# Check the name of CUA\n",
        "torch.cuda.get_device_name(0)"
      ],
      "execution_count": 17,
      "outputs": [
        {
          "output_type": "execute_result",
          "data": {
            "application/vnd.google.colaboratory.intrinsic+json": {
              "type": "string"
            },
            "text/plain": [
              "'Tesla T4'"
            ]
          },
          "metadata": {
            "tags": []
          },
          "execution_count": 17
        }
      ]
    },
    {
      "cell_type": "code",
      "metadata": {
        "id": "ydS2_4J4GYoN",
        "colab": {
          "base_uri": "https://localhost:8080/"
        },
        "outputId": "2e0c3c87-e718-4630-acac-4aaa8656f2df"
      },
      "source": [
        "# Move the tensors to the CUDA\n",
        "# No CUDA support on the Mac....\n",
        "if torch.cuda.is_available():\n",
        "    device = torch.device('cuda')\n",
        "    # Directly create a tensor on GPU\n",
        "    y = torch.ones_like(x, device = device)\n",
        "    # Move the tensor to GPU\n",
        "    x = x.to(device)\n",
        "    z = x + y\n",
        "    print(z)\n",
        "    \n",
        "    # Move back to CPU\n",
        "    print(z.to('cpu', torch.double))"
      ],
      "execution_count": 18,
      "outputs": [
        {
          "output_type": "stream",
          "text": [
            "tensor([[ 0.6830, -0.0925,  0.9148,  0.9067],\n",
            "        [ 1.6871,  0.1617,  1.0009,  1.8419],\n",
            "        [ 1.1854,  1.6211,  1.6382,  0.7540],\n",
            "        [ 3.3025, -0.8817,  0.9503, -0.0450]], device='cuda:0')\n",
            "tensor([[ 0.6830, -0.0925,  0.9148,  0.9067],\n",
            "        [ 1.6871,  0.1617,  1.0009,  1.8419],\n",
            "        [ 1.1854,  1.6211,  1.6382,  0.7540],\n",
            "        [ 3.3025, -0.8817,  0.9503, -0.0450]], dtype=torch.float64)\n"
          ],
          "name": "stdout"
        }
      ]
    }
  ]
}